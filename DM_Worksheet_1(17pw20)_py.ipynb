{
  "nbformat": 4,
  "nbformat_minor": 0,
  "metadata": {
    "colab": {
      "name": "DM_Worksheet_1(17pw20).py",
      "provenance": [],
      "collapsed_sections": []
    },
    "kernelspec": {
      "name": "python3",
      "display_name": "Python 3"
    }
  },
  "cells": [
    {
      "cell_type": "markdown",
      "metadata": {
        "id": "P4cDJynNZ7XU"
      },
      "source": [
        "# DATA MINING WORKSHEET - 1"
      ]
    },
    {
      "cell_type": "code",
      "metadata": {
        "id": "PfEEWSBWt1UV",
        "colab": {
          "base_uri": "https://localhost:8080/"
        },
        "outputId": "5d350dc8-6fc0-4532-dce5-39514f47625c"
      },
      "source": [
        "\r\n",
        "\r\n",
        "import pandas as pd\r\n",
        "import matplotlib.pyplot as plt\r\n",
        "from google.colab import drive\r\n",
        "drive.mount(\"/content/gdrive\")\r\n",
        "\r\n",
        "\r\n"
      ],
      "execution_count": null,
      "outputs": [
        {
          "output_type": "stream",
          "text": [
            "Mounted at /content/gdrive\n"
          ],
          "name": "stdout"
        }
      ]
    },
    {
      "cell_type": "code",
      "metadata": {
        "colab": {
          "base_uri": "https://localhost:8080/"
        },
        "id": "fdSmp4GPZqyc",
        "outputId": "1273d531-4087-498d-ab8e-d708cf88262b"
      },
      "source": [
        "data=pd.read_csv(\"/content/gdrive/My Drive/NutritionDataset.csv\")\r\n",
        "print(data.head())\r\n"
      ],
      "execution_count": null,
      "outputs": [
        {
          "output_type": "stream",
          "text": [
            "  shelf                       name mfr type  ...  potass  vitamins  weight  cups\n",
            "0   Top                  100%_Bran   N    C  ...   280.0        25     1.0  0.33\n",
            "1   Top          100%_Natural_Bran   Q    C  ...   135.0         0     1.0  1.00\n",
            "2   Top                   All-Bran   K    C  ...   320.0        25     1.0  0.33\n",
            "3   Top  All-Bran_with_Extra_Fiber   K    C  ...   330.0        25     1.0  0.50\n",
            "4   Top             Almond_Delight   R    C  ...     NaN        25     1.0  0.75\n",
            "\n",
            "[5 rows x 15 columns]\n"
          ],
          "name": "stdout"
        }
      ]
    },
    {
      "cell_type": "code",
      "metadata": {
        "colab": {
          "base_uri": "https://localhost:8080/"
        },
        "id": "8pSDUGTJYylV",
        "outputId": "be3fddb3-4e93-4dc0-82b2-12f0ac060156"
      },
      "source": [
        "print(\"DUPLICATE VALUES \",data.duplicated().sum()) \r\n",
        "\r\n",
        "data.drop_duplicates(keep=False,inplace=True)\r\n",
        "\r\n",
        "#To check for duplicates\r\n",
        "print(\"DUPLICATE VALUES(after cleaning) :\",data.duplicated().sum()) \r\n"
      ],
      "execution_count": null,
      "outputs": [
        {
          "output_type": "stream",
          "text": [
            "DUPLICATE VALUES  0\n",
            "DUPLICATE VALUES(after cleaning) : 0\n"
          ],
          "name": "stdout"
        }
      ]
    },
    {
      "cell_type": "markdown",
      "metadata": {
        "id": "kkrZfDW0uAeJ"
      },
      "source": [
        "#1 In this dataset the QUALITATIVE and QUANTITATIVE attributes are\r\n",
        "\r\n",
        "Qualitative   : Shelf[ordinal],name[nominal],manufacturers(N,Q,K,R,G,P,A)[nominal],type(C,H)[binary].\r\n",
        "\r\n",
        " Quantitative  : Carbs,Sodium,Pottasium,Calories,Sugars,Weight,Fiber,cups,fat(0-5),protein(1-6),Vitamins(0,25,100)"
      ]
    },
    {
      "cell_type": "code",
      "metadata": {
        "colab": {
          "base_uri": "https://localhost:8080/"
        },
        "id": "TT8kfELmYBuX",
        "outputId": "d29bbc31-eff7-41e8-b65b-5fe81e996696"
      },
      "source": [
        "\r\n",
        "# 1.Explit view of the data for defining Qualitative and Quantitative data\r\n",
        "print(\"SHELF\",data.shelf.unique())\r\n",
        "print(\"NAME:\",data.name.unique())\r\n",
        "print(\"MFR:\",data.mfr.unique())\r\n",
        "print(\"TYPE:\",data.type.unique())\r\n",
        "print(\"CALORIES\",data.calories.unique())\r\n",
        "print(\"PROTEIN:\",data.protein.unique())\r\n",
        "print(\"FAT:\",data.fat.unique())\r\n",
        "print(\"SODIUM:\",data.sodium.unique())\r\n",
        "print(\"FIBER:\",data.fiber.unique())\r\n",
        "print(\"CARBOHYDRATES:\",data.carbo.unique())\r\n",
        "print(\"SUGARS:\",data.sugars.unique())\r\n",
        "print(\"POTASSIUM:\",data.potass.unique())\r\n",
        "print(\"VITAMINS:\",data.vitamins.unique())\r\n",
        "print(\"WEIGHT:\",data.weight.unique())\r\n",
        "print(\"CUPS:\",data.cups.unique())\r\n",
        "\r\n",
        "\r\n"
      ],
      "execution_count": null,
      "outputs": [
        {
          "output_type": "stream",
          "text": [
            "SHELF ['Top' 'Bottom' 'Middle']\n",
            "NAME: ['100%_Bran' '100%_Natural_Bran' 'All-Bran' 'All-Bran_with_Extra_Fiber'\n",
            " 'Almond_Delight' 'Apple_Cinnamon_Cheerios' 'Apple_Jacks' 'Basic_4'\n",
            " 'Bran_Chex' 'Bran_Flakes' \"Cap'n'Crunch\" 'Cheerios'\n",
            " 'Cinnamon_Toast_Crunch' 'Clusters' 'Cocoa_Puffs' 'Corn_Chex'\n",
            " 'Corn_Flakes' 'Corn_Pops' 'Count_Chocula' \"Cracklin'_Oat_Bran\"\n",
            " 'Cream_of_Wheat_(Quick)' 'Crispix' 'Crispy_Wheat_&_Raisins' 'Double_Chex'\n",
            " 'Froot_Loops' 'Frosted_Flakes' 'Frosted_Mini-Wheats'\n",
            " 'Fruit_&_Fibre_Dates,_Walnuts,_and_Oats' 'Fruitful_Bran' 'Fruity_Pebbles'\n",
            " 'Golden_Crisp' 'Golden_Grahams' 'Grape_Nuts_Flakes' 'Grape-Nuts'\n",
            " 'Great_Grains_Pecan' 'Honey_Graham_Ohs' 'Honey_Nut_Cheerios' 'Honey-comb'\n",
            " 'Just_Right_Crunchy__Nuggets' 'Just_Right_Fruit_&_Nut' 'Kix' 'Life'\n",
            " 'Lucky_Charms' 'Maypo' 'Muesli_Raisins,_Dates,_&_Almonds'\n",
            " 'Muesli_Raisins,_Peaches,_&_Pecans' 'Mueslix_Crispy_Blend'\n",
            " 'Multi-Grain_Cheerios' 'Nut&Honey_Crunch' 'Nutri-Grain_Almond-Raisin'\n",
            " 'Nutri-grain_Wheat' 'Oatmeal_Raisin_Crisp' 'Post_Nat._Raisin_Bran'\n",
            " 'Product_19' 'Puffed_Rice' 'Puffed_Wheat' 'Quaker_Oat_Squares'\n",
            " 'Quaker_Oatmeal' 'Raisin_Bran' 'Raisin_Nut_Bran' 'Raisin_Squares'\n",
            " 'Rice_Chex' 'Rice_Krispies' 'Shredded_Wheat' \"Shredded_Wheat_'n'Bran\"\n",
            " 'Shredded_Wheat_spoon_size' 'Smacks' 'Special_K'\n",
            " 'Strawberry_Fruit_Wheats' 'Total_Corn_Flakes' 'Total_Raisin_Bran'\n",
            " 'Total_Whole_Grain' 'Triples' 'Trix' 'Wheat_Chex' 'Wheaties'\n",
            " 'Wheaties_Honey_Gold']\n",
            "MFR: ['N' 'Q' 'K' 'R' 'G' 'P' 'A']\n",
            "TYPE: ['C' 'H']\n",
            "CALORIES [ 70 120  50 110 130  90 100 140 150 160  80]\n",
            "PROTEIN: [4 3 2 1 6 5]\n",
            "FAT: [1 5 0 2 3]\n",
            "SODIUM: [130  15 260 140 200 180 125 210 220 290 280  90  80 190   0 160 240 135\n",
            "  45 170  75 250 150  95 320  70 230]\n",
            "FIBER: [10.   2.   9.  14.   1.   1.5  4.   5.   0.   3.   6.   2.7  2.5]\n",
            "CARBOHYDRATES: [ 5.   8.   7.  14.  10.5 11.  18.  15.  13.  12.  17.  22.  21.  10.\n",
            " 11.5 20.  16.  13.5  nan 23.  19.   9. ]\n",
            "SUGARS: [ 6.  8.  5.  0. 10. 14. 12.  1.  9.  7. 13.  3.  2. 11. 15.  4. nan]\n",
            "POTASSIUM: [280. 135. 320. 330.  nan  70.  30. 100. 125. 190.  35. 105.  45.  55.\n",
            "  25.  20.  65. 160. 120.  80. 200.  40.  85.  90.  60.  95. 170. 130.\n",
            " 260.  15.  50. 110. 240. 140. 230. 115.]\n",
            "VITAMINS: [ 25   0 100]\n",
            "WEIGHT: [1.   1.33 1.25 1.3  1.5  0.5  0.83]\n",
            "CUPS: [0.33 1.   0.5  0.75 0.67 1.25 0.8  0.88 0.25 1.33 1.5  1.13]\n"
          ],
          "name": "stdout"
        }
      ]
    },
    {
      "cell_type": "code",
      "metadata": {
        "colab": {
          "base_uri": "https://localhost:8080/",
          "height": 587
        },
        "id": "6cfJUNnDfXuK",
        "outputId": "6c4f1094-7c62-48f4-9364-577e7579b4a0"
      },
      "source": [
        "#2.histogram\r\n",
        "data.hist(column = 'sugars',by = \"shelf\", grid=False, figsize=(12,8),color='green')\r\n"
      ],
      "execution_count": null,
      "outputs": [
        {
          "output_type": "execute_result",
          "data": {
            "text/plain": [
              "array([[<matplotlib.axes._subplots.AxesSubplot object at 0x7f88ed41e3c8>,\n",
              "        <matplotlib.axes._subplots.AxesSubplot object at 0x7f88ecffbd30>],\n",
              "       [<matplotlib.axes._subplots.AxesSubplot object at 0x7f88ed02af98>,\n",
              "        <matplotlib.axes._subplots.AxesSubplot object at 0x7f88ecfe6240>]],\n",
              "      dtype=object)"
            ]
          },
          "metadata": {
            "tags": []
          },
          "execution_count": 13
        },
        {
          "output_type": "display_data",
          "data": {
            "image/png": "[encoded data removed]",
            "text/plain": [
              "<Figure size 864x576 with 4 Axes>"
            ]
          },
          "metadata": {
            "tags": [],
            "needs_background": "light"
          }
        }
      ]
    },
    {
      "cell_type": "markdown",
      "metadata": {
        "id": "HRdWXE-JnUPl"
      },
      "source": [
        "##3.Based on the above histograms \r\n",
        "\r\n",
        "* The top shelf is symmetrical(a bell shape).\r\n",
        "Hence we can say that the amount of sugar on the top shelf is even.\r\n",
        "*  The middle shelf is left-skewed.\r\n",
        "So the majority of the cereals on that shelf have high sugar content.\r\n",
        "* The bottom shelf is right-skewed.\r\n",
        "So the majority of cereals on this shelf are not as sugary.\r\n",
        "\r\n",
        "\r\n"
      ]
    },
    {
      "cell_type": "markdown",
      "metadata": {
        "id": "qpLcpLyspAhY"
      },
      "source": [
        "#4. box plot,mean,SD"
      ]
    },
    {
      "cell_type": "code",
      "metadata": {
        "colab": {
          "base_uri": "https://localhost:8080/",
          "height": 318
        },
        "id": "vOg1osivXw5i",
        "outputId": "b5bdd5ba-ece1-489f-c01e-a49140a684e3"
      },
      "source": [
        "\r\n",
        "#5 summary box plot\r\n",
        "print(data.boxplot( column =['fiber'], grid = True) )\r\n",
        "import numpy as np\r\n",
        "print(\"Mean of Fiber:\",np.mean(data.fiber))\r\n",
        "print(\"Standard Deviation of Fiber\",np.std(data.fiber))"
      ],
      "execution_count": null,
      "outputs": [
        {
          "output_type": "stream",
          "text": [
            "AxesSubplot(0.125,0.125;0.775x0.755)\n",
            "Mean of Fiber: 2.1519480519480516\n",
            "Standard Deviation of Fiber 2.3678369980320557\n"
          ],
          "name": "stdout"
        },
        {
          "output_type": "display_data",
          "data": {
            "image/png": "[encoded data removed]",
            "text/plain": [
              "<Figure size 432x288 with 1 Axes>"
            ]
          },
          "metadata": {
            "tags": [],
            "needs_background": "light"
          }
        }
      ]
    },
    {
      "cell_type": "markdown",
      "metadata": {
        "id": "RhaPD6BcpMeE"
      },
      "source": [
        "#5.Scatter plot for x=carbs,y-cals"
      ]
    },
    {
      "cell_type": "code",
      "metadata": {
        "colab": {
          "base_uri": "https://localhost:8080/",
          "height": 352
        },
        "id": "w7z_5VWKX56A",
        "outputId": "0d3d8765-e9da-474f-8141-5b7582500584"
      },
      "source": [
        "#5.Scatter plot for x=carbs,y-cals\r\n",
        "#print(plt.scatter(data.carbo,data.calories))\r\n",
        "import seaborn as sns\r\n",
        "sns.regplot(data.carbo,data.calories, data)\r\n",
        "#Finding r to determine strong or weak \r\n",
        "print(\"R = \",data.carbo.corr(data.calories))\r\n"
      ],
      "execution_count": null,
      "outputs": [
        {
          "output_type": "stream",
          "text": [
            "/usr/local/lib/python3.6/dist-packages/seaborn/_decorators.py:43: FutureWarning: Pass the following variables as keyword args: x, y, data. From version 0.12, the only valid positional argument will be `data`, and passing other arguments without an explicit keyword will result in an error or misinterpretation.\n",
            "  FutureWarning\n"
          ],
          "name": "stderr"
        },
        {
          "output_type": "stream",
          "text": [
            "R =  0.25763783073781144\n"
          ],
          "name": "stdout"
        },
        {
          "output_type": "display_data",
          "data": {
            "image/png": "[encoded data removed]",
            "text/plain": [
              "<Figure size 432x288 with 1 Axes>"
            ]
          },
          "metadata": {
            "tags": [],
            "needs_background": "light"
          }
        }
      ]
    },
    {
      "cell_type": "markdown",
      "metadata": {
        "id": "0vOmMBtDaOxa"
      },
      "source": [
        "###From R ,the relation is found to be a very weak correlation as \r\n",
        "### association between two features is  is hardly observable.It is weak positive linear association."
      ]
    }
  ]
}